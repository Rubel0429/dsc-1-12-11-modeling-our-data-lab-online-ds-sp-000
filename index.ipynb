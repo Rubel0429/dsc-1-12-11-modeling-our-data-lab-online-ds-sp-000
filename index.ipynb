{
 "cells": [
  {
   "cell_type": "markdown",
   "metadata": {},
   "source": [
    "# Modeling Our Data - Lab"
   ]
  },
  {
   "cell_type": "markdown",
   "metadata": {},
   "source": [
    "## Introduction \n",
    "\n",
    "In this lab we'll perform a full linear regression on our data. We'll take a stepwise approach and we'll try to improve our model as we go."
   ]
  },
  {
   "cell_type": "markdown",
   "metadata": {},
   "source": [
    "## Objectives\n",
    "You will be able to:\n",
    "\n",
    "* Remove predictors with p-values too high and refit the model\n",
    "* Examine and interpret the model results\n",
    "* Split data into training and testing sets\n",
    "* Fit a regression model to the data set using statsmodel library\n"
   ]
  },
  {
   "cell_type": "markdown",
   "metadata": {},
   "source": [
    "## Build single linear regression models\n",
    "\n",
    "From the previous steps, it is pretty clear that we have quite a few predictors, but there are some issues with them. Linearity with the target \"Weekly_Sales\" wasn't apparent. If that's the case, it's always smart to start small, and go ahead and build linear regression models with just one input at the time. Somewhat like what we've done in section 10, let's look at some statistics for single linear regression models for all our *continuous* variables with the outcome.\n",
    "\n",
    "**Note: for now, we will not use holdout validation, as we're just trying to gauge interpretation and a sense of predictive capacity for each of the candidate predictors**"
   ]
  },
  {
   "cell_type": "markdown",
   "metadata": {},
   "source": [
    "### Load the cleaned dataset \"walmart_dataset.csv\", and check its contents "
   ]
  },
  {
   "cell_type": "code",
   "execution_count": 1,
   "metadata": {},
   "outputs": [],
   "source": [
    "import pandas as pd\n",
    "df = pd.read_csv(r\"C:\\Users\\rrubel\\Documents\\Materials\\section12\\dsc-1-12-11-modeling-our-data-lab-online-ds-sp-000\\walmart_dataset_cleaned.csv\")"
   ]
  },
  {
   "cell_type": "markdown",
   "metadata": {},
   "source": [
    "Let's pull up the info."
   ]
  },
  {
   "cell_type": "code",
   "execution_count": 2,
   "metadata": {},
   "outputs": [
    {
     "name": "stdout",
     "output_type": "stream",
     "text": [
      "<class 'pandas.core.frame.DataFrame'>\n",
      "RangeIndex: 97839 entries, 0 to 97838\n",
      "Columns: 127 entries, Weekly_Sales to binned_markdown_5_NaN\n",
      "dtypes: bool(1), float64(6), int64(120)\n",
      "memory usage: 94.1 MB\n"
     ]
    }
   ],
   "source": [
    "df.info()"
   ]
  },
  {
   "cell_type": "markdown",
   "metadata": {},
   "source": [
    "Note that the output for info is much smaller compared to what we usually see. Because we have so many columns, pandas is intentionally not showing the data types for each column. Let's use `info()` again, but now just on the first 15 columns of the data."
   ]
  },
  {
   "cell_type": "code",
   "execution_count": 3,
   "metadata": {},
   "outputs": [
    {
     "name": "stdout",
     "output_type": "stream",
     "text": [
      "<class 'pandas.core.frame.DataFrame'>\n",
      "RangeIndex: 97839 entries, 0 to 97838\n",
      "Data columns (total 15 columns):\n",
      "Weekly_Sales    97839 non-null float64\n",
      "IsHoliday       97839 non-null bool\n",
      "Size            97839 non-null float64\n",
      "Temperature     97839 non-null float64\n",
      "Fuel_Price      97839 non-null float64\n",
      "CPI             97839 non-null float64\n",
      "Unemployment    97839 non-null float64\n",
      "Store_1         97839 non-null int64\n",
      "Store_10        97839 non-null int64\n",
      "Store_2         97839 non-null int64\n",
      "Store_3         97839 non-null int64\n",
      "Store_4         97839 non-null int64\n",
      "Store_5         97839 non-null int64\n",
      "Store_6         97839 non-null int64\n",
      "Store_7         97839 non-null int64\n",
      "dtypes: bool(1), float64(6), int64(8)\n",
      "memory usage: 10.5 MB\n"
     ]
    }
   ],
   "source": [
    "df.iloc[:,0:15].info()"
   ]
  },
  {
   "cell_type": "markdown",
   "metadata": {},
   "source": [
    "Remember that all the columns from store_1 onwards are actually dummies, so categorical variables. Because we stored the data and loaded it in again, this information was lost. Let's make sure they become categorical again. You can write a for-loop to do this."
   ]
  },
  {
   "cell_type": "code",
   "execution_count": 4,
   "metadata": {},
   "outputs": [],
   "source": [
    "for column in df.iloc[:,7:].columns:\n",
    "    df[column] = df[column].astype('category')"
   ]
  },
  {
   "cell_type": "markdown",
   "metadata": {},
   "source": [
    "Let's make sure IsHoliday is a categorical variable as well."
   ]
  },
  {
   "cell_type": "code",
   "execution_count": 5,
   "metadata": {},
   "outputs": [],
   "source": [
    "df[\"IsHoliday\"] = df[\"IsHoliday\"].astype('category')"
   ]
  },
  {
   "cell_type": "markdown",
   "metadata": {},
   "source": [
    "Let's check the info again to make sure everything is OK now."
   ]
  },
  {
   "cell_type": "code",
   "execution_count": 6,
   "metadata": {},
   "outputs": [
    {
     "name": "stdout",
     "output_type": "stream",
     "text": [
      "<class 'pandas.core.frame.DataFrame'>\n",
      "RangeIndex: 97839 entries, 0 to 97838\n",
      "Data columns (total 15 columns):\n",
      "Weekly_Sales    97839 non-null float64\n",
      "IsHoliday       97839 non-null category\n",
      "Size            97839 non-null float64\n",
      "Temperature     97839 non-null float64\n",
      "Fuel_Price      97839 non-null float64\n",
      "CPI             97839 non-null float64\n",
      "Unemployment    97839 non-null float64\n",
      "Store_1         97839 non-null category\n",
      "Store_10        97839 non-null category\n",
      "Store_2         97839 non-null category\n",
      "Store_3         97839 non-null category\n",
      "Store_4         97839 non-null category\n",
      "Store_5         97839 non-null category\n",
      "Store_6         97839 non-null category\n",
      "Store_7         97839 non-null category\n",
      "dtypes: category(9), float64(6)\n",
      "memory usage: 5.3 MB\n"
     ]
    }
   ],
   "source": [
    "df.iloc[:,0:15].info()"
   ]
  },
  {
   "cell_type": "markdown",
   "metadata": {},
   "source": [
    "Great! you should see that the datatypes have changed to categories now! If you use `.describe` now, you should see only the remaining continuous variables in the data set."
   ]
  },
  {
   "cell_type": "code",
   "execution_count": 7,
   "metadata": {},
   "outputs": [
    {
     "data": {
      "text/html": [
       "<div>\n",
       "<style scoped>\n",
       "    .dataframe tbody tr th:only-of-type {\n",
       "        vertical-align: middle;\n",
       "    }\n",
       "\n",
       "    .dataframe tbody tr th {\n",
       "        vertical-align: top;\n",
       "    }\n",
       "\n",
       "    .dataframe thead th {\n",
       "        text-align: right;\n",
       "    }\n",
       "</style>\n",
       "<table border=\"1\" class=\"dataframe\">\n",
       "  <thead>\n",
       "    <tr style=\"text-align: right;\">\n",
       "      <th></th>\n",
       "      <th>Weekly_Sales</th>\n",
       "      <th>Size</th>\n",
       "      <th>Temperature</th>\n",
       "      <th>Fuel_Price</th>\n",
       "      <th>CPI</th>\n",
       "      <th>Unemployment</th>\n",
       "    </tr>\n",
       "  </thead>\n",
       "  <tbody>\n",
       "    <tr>\n",
       "      <th>count</th>\n",
       "      <td>97839.000000</td>\n",
       "      <td>9.783900e+04</td>\n",
       "      <td>9.783900e+04</td>\n",
       "      <td>9.783900e+04</td>\n",
       "      <td>9.783900e+04</td>\n",
       "      <td>9.783900e+04</td>\n",
       "    </tr>\n",
       "    <tr>\n",
       "      <th>mean</th>\n",
       "      <td>17223.235591</td>\n",
       "      <td>-8.044340e-14</td>\n",
       "      <td>2.339480e-13</td>\n",
       "      <td>4.784098e-13</td>\n",
       "      <td>-9.181116e-15</td>\n",
       "      <td>1.795967e-12</td>\n",
       "    </tr>\n",
       "    <tr>\n",
       "      <th>std</th>\n",
       "      <td>25288.572553</td>\n",
       "      <td>1.000000e+00</td>\n",
       "      <td>1.000000e+00</td>\n",
       "      <td>1.000000e+00</td>\n",
       "      <td>1.000000e+00</td>\n",
       "      <td>1.000000e+00</td>\n",
       "    </tr>\n",
       "    <tr>\n",
       "      <th>min</th>\n",
       "      <td>-1098.000000</td>\n",
       "      <td>-1.611999e+00</td>\n",
       "      <td>-3.843452e+00</td>\n",
       "      <td>-1.691961e+00</td>\n",
       "      <td>-1.958762e+00</td>\n",
       "      <td>-2.776898e+00</td>\n",
       "    </tr>\n",
       "    <tr>\n",
       "      <th>25%</th>\n",
       "      <td>2336.485000</td>\n",
       "      <td>-1.028620e+00</td>\n",
       "      <td>-7.087592e-01</td>\n",
       "      <td>-1.053793e+00</td>\n",
       "      <td>-1.266966e-01</td>\n",
       "      <td>-6.503157e-01</td>\n",
       "    </tr>\n",
       "    <tr>\n",
       "      <th>50%</th>\n",
       "      <td>7658.280000</td>\n",
       "      <td>2.834360e-01</td>\n",
       "      <td>1.340726e-01</td>\n",
       "      <td>1.180741e-01</td>\n",
       "      <td>4.995210e-01</td>\n",
       "      <td>-4.621274e-02</td>\n",
       "    </tr>\n",
       "    <tr>\n",
       "      <th>75%</th>\n",
       "      <td>20851.275000</td>\n",
       "      <td>1.113495e+00</td>\n",
       "      <td>8.680410e-01</td>\n",
       "      <td>8.243739e-01</td>\n",
       "      <td>6.346144e-01</td>\n",
       "      <td>7.089160e-01</td>\n",
       "    </tr>\n",
       "    <tr>\n",
       "      <th>max</th>\n",
       "      <td>693099.360000</td>\n",
       "      <td>1.171380e+00</td>\n",
       "      <td>1.738375e+00</td>\n",
       "      <td>2.745691e+00</td>\n",
       "      <td>8.517705e-01</td>\n",
       "      <td>2.361469e+00</td>\n",
       "    </tr>\n",
       "  </tbody>\n",
       "</table>\n",
       "</div>"
      ],
      "text/plain": [
       "        Weekly_Sales          Size   Temperature    Fuel_Price           CPI  \\\n",
       "count   97839.000000  9.783900e+04  9.783900e+04  9.783900e+04  9.783900e+04   \n",
       "mean    17223.235591 -8.044340e-14  2.339480e-13  4.784098e-13 -9.181116e-15   \n",
       "std     25288.572553  1.000000e+00  1.000000e+00  1.000000e+00  1.000000e+00   \n",
       "min     -1098.000000 -1.611999e+00 -3.843452e+00 -1.691961e+00 -1.958762e+00   \n",
       "25%      2336.485000 -1.028620e+00 -7.087592e-01 -1.053793e+00 -1.266966e-01   \n",
       "50%      7658.280000  2.834360e-01  1.340726e-01  1.180741e-01  4.995210e-01   \n",
       "75%     20851.275000  1.113495e+00  8.680410e-01  8.243739e-01  6.346144e-01   \n",
       "max    693099.360000  1.171380e+00  1.738375e+00  2.745691e+00  8.517705e-01   \n",
       "\n",
       "       Unemployment  \n",
       "count  9.783900e+04  \n",
       "mean   1.795967e-12  \n",
       "std    1.000000e+00  \n",
       "min   -2.776898e+00  \n",
       "25%   -6.503157e-01  \n",
       "50%   -4.621274e-02  \n",
       "75%    7.089160e-01  \n",
       "max    2.361469e+00  "
      ]
     },
     "execution_count": 7,
     "metadata": {},
     "output_type": "execute_result"
    }
   ],
   "source": [
    "df.describe()"
   ]
  },
  {
   "cell_type": "markdown",
   "metadata": {},
   "source": [
    "### Use a for-loop to look at some results for each linear regression model "
   ]
  },
  {
   "cell_type": "markdown",
   "metadata": {},
   "source": [
    "Let's use ordinary least squares in statsmodels at this stage.\n",
    "Import `statsmodels.formula.api` to get started"
   ]
  },
  {
   "cell_type": "code",
   "execution_count": 8,
   "metadata": {},
   "outputs": [],
   "source": [
    "import statsmodels.api as sm\n",
    "import statsmodels.formula.api as smf\n",
    "import numpy as np"
   ]
  },
  {
   "cell_type": "markdown",
   "metadata": {},
   "source": [
    "Create a loop that for each iteration:\n",
    "* Runs a simple OLS regression between (continuous) independent and dependent variables\n",
    "* Store following values in array for each iteration\n",
    "    * Target variable\n",
    "    * R_squared\n",
    "    * intercept\n",
    "    * slope\n",
    "    * p-value\n",
    "* Comment on each output "
   ]
  },
  {
   "cell_type": "code",
   "execution_count": 9,
   "metadata": {},
   "outputs": [
    {
     "name": "stdout",
     "output_type": "stream",
     "text": [
      "['Size', 0.08577198301194777, 17223.235590817574, 7406.227377929049, 0.0]\n",
      "['Temperature', 0.0010145286600620196, 17223.235590817378, 805.4831797033963, 2.160985815462691e-23]\n",
      "['Fuel_Price', 0.0008029403665875678, 17223.235590817232, 716.5821103232543, 7.649612001141253e-19]\n",
      "['CPI', 0.039410515354355025, 17223.2355908175, -5020.308120380831, 0.0]\n",
      "['Unemployment', 0.0008517114683161964, 17223.235590816246, 738.0241329746427, 6.825456986258804e-20]\n"
     ]
    }
   ],
   "source": [
    "cols = []\n",
    "for x in range(2,7):\n",
    "    predictor = df.iloc[:,x]\n",
    "    predictors_int = sm.add_constant(predictor)\n",
    "    model = sm.OLS(df[\"Weekly_Sales\"], predictors_int).fit()\n",
    "    cols.append([df.iloc[:,x].name, model.rsquared, model.params[0], model.params[1], model.pvalues[1]])\n",
    "    model.summary()\n",
    "for number in range(0,5):\n",
    "    print(cols[number])"
   ]
  },
  {
   "cell_type": "code",
   "execution_count": 10,
   "metadata": {},
   "outputs": [
    {
     "data": {
      "text/html": [
       "<div>\n",
       "<style scoped>\n",
       "    .dataframe tbody tr th:only-of-type {\n",
       "        vertical-align: middle;\n",
       "    }\n",
       "\n",
       "    .dataframe tbody tr th {\n",
       "        vertical-align: top;\n",
       "    }\n",
       "\n",
       "    .dataframe thead th {\n",
       "        text-align: right;\n",
       "    }\n",
       "</style>\n",
       "<table border=\"1\" class=\"dataframe\">\n",
       "  <thead>\n",
       "    <tr style=\"text-align: right;\">\n",
       "      <th></th>\n",
       "      <th>0</th>\n",
       "      <th>1</th>\n",
       "      <th>2</th>\n",
       "      <th>3</th>\n",
       "      <th>4</th>\n",
       "    </tr>\n",
       "  </thead>\n",
       "  <tbody>\n",
       "    <tr>\n",
       "      <th>0</th>\n",
       "      <td>Size</td>\n",
       "      <td>0.085772</td>\n",
       "      <td>17223.235591</td>\n",
       "      <td>7406.227378</td>\n",
       "      <td>0.000000e+00</td>\n",
       "    </tr>\n",
       "    <tr>\n",
       "      <th>1</th>\n",
       "      <td>Temperature</td>\n",
       "      <td>0.001015</td>\n",
       "      <td>17223.235591</td>\n",
       "      <td>805.483180</td>\n",
       "      <td>2.160986e-23</td>\n",
       "    </tr>\n",
       "    <tr>\n",
       "      <th>2</th>\n",
       "      <td>Fuel_Price</td>\n",
       "      <td>0.000803</td>\n",
       "      <td>17223.235591</td>\n",
       "      <td>716.582110</td>\n",
       "      <td>7.649612e-19</td>\n",
       "    </tr>\n",
       "    <tr>\n",
       "      <th>3</th>\n",
       "      <td>CPI</td>\n",
       "      <td>0.039411</td>\n",
       "      <td>17223.235591</td>\n",
       "      <td>-5020.308120</td>\n",
       "      <td>0.000000e+00</td>\n",
       "    </tr>\n",
       "    <tr>\n",
       "      <th>4</th>\n",
       "      <td>Unemployment</td>\n",
       "      <td>0.000852</td>\n",
       "      <td>17223.235591</td>\n",
       "      <td>738.024133</td>\n",
       "      <td>6.825457e-20</td>\n",
       "    </tr>\n",
       "  </tbody>\n",
       "</table>\n",
       "</div>"
      ],
      "text/plain": [
       "              0         1             2            3             4\n",
       "0          Size  0.085772  17223.235591  7406.227378  0.000000e+00\n",
       "1   Temperature  0.001015  17223.235591   805.483180  2.160986e-23\n",
       "2    Fuel_Price  0.000803  17223.235591   716.582110  7.649612e-19\n",
       "3           CPI  0.039411  17223.235591 -5020.308120  0.000000e+00\n",
       "4  Unemployment  0.000852  17223.235591   738.024133  6.825457e-20"
      ]
     },
     "execution_count": 10,
     "metadata": {},
     "output_type": "execute_result"
    }
   ],
   "source": [
    "pd.DataFrame(cols)"
   ]
  },
  {
   "cell_type": "code",
   "execution_count": 11,
   "metadata": {},
   "outputs": [
    {
     "data": {
      "text/plain": [
       "'We have low R^2 values, so our data does not fit our model very well. Our p-values are close to zero, so we can reject the null hypothesis and say that these predictors have an affect on our outcome variable.'"
      ]
     },
     "execution_count": 11,
     "metadata": {},
     "output_type": "execute_result"
    }
   ],
   "source": [
    "\"We have low R^2 values, so our data does not fit our model very well. Our p-values are close to zero, so we can reject the null hypothesis and say that these predictors have an affect on our outcome variable.\""
   ]
  },
  {
   "cell_type": "markdown",
   "metadata": {},
   "source": [
    "Think about your results. \n",
    "- What do the parameter estimates mean? Do they make sense? \n",
    "- What do the p-values tell us?\n",
    "- What does the R-squared tell us?"
   ]
  },
  {
   "cell_type": "markdown",
   "metadata": {},
   "source": [
    "## Our R-squared values are low, let's try to solve this\n",
    "\n",
    "Something we haven't considered before, is taking log-transformations to make certain data less skewed. Let's take a quick look at our summarizing histograms. "
   ]
  },
  {
   "cell_type": "code",
   "execution_count": 12,
   "metadata": {},
   "outputs": [
    {
     "data": {
      "image/png": "[encoded data removed]",
      "text/plain": [
       "<Figure size 432x288 with 6 Axes>"
      ]
     },
     "metadata": {
      "needs_background": "light"
     },
     "output_type": "display_data"
    }
   ],
   "source": [
    "import matplotlib.pyplot as plt\n",
    "\n",
    "predictor = df.iloc[:,1:7]\n",
    "predictor.hist()\n",
    "plt.show()"
   ]
  },
  {
   "cell_type": "markdown",
   "metadata": {},
   "source": [
    "Interestingly the most problematic variable in terms of skewness seems to be weekly sales itself. Does it make sense to log-transform this variable? It definitely doesn't hurt to try! Let's have a look below. what do you see?"
   ]
  },
  {
   "cell_type": "code",
   "execution_count": 13,
   "metadata": {},
   "outputs": [
    {
     "data": {
      "text/plain": [
       "count     97839.000000\n",
       "mean      17223.235591\n",
       "std       25288.572553\n",
       "min       -1098.000000\n",
       "25%        2336.485000\n",
       "50%        7658.280000\n",
       "75%       20851.275000\n",
       "max      693099.360000\n",
       "Name: Weekly_Sales, dtype: float64"
      ]
     },
     "execution_count": 13,
     "metadata": {},
     "output_type": "execute_result"
    }
   ],
   "source": [
    "df[\"Weekly_Sales\"].describe()"
   ]
  },
  {
   "cell_type": "markdown",
   "metadata": {},
   "source": [
    "That's right, we have some negative `Weekly_Sales` values! Let's check how many we have."
   ]
  },
  {
   "cell_type": "code",
   "execution_count": 14,
   "metadata": {},
   "outputs": [
    {
     "data": {
      "text/plain": [
       "224"
      ]
     },
     "execution_count": 14,
     "metadata": {},
     "output_type": "execute_result"
    }
   ],
   "source": [
    "sum(df[\"Weekly_Sales\"] <= 0)"
   ]
  },
  {
   "cell_type": "markdown",
   "metadata": {},
   "source": [
    "This seems negligibe considering we have almost 100,000 observations. Let's remove these 224 rows so we can take the log."
   ]
  },
  {
   "cell_type": "code",
   "execution_count": 15,
   "metadata": {},
   "outputs": [],
   "source": [
    "df2 = df[df[\"Weekly_Sales\"] > 0]"
   ]
  },
  {
   "cell_type": "code",
   "execution_count": 16,
   "metadata": {},
   "outputs": [
    {
     "name": "stderr",
     "output_type": "stream",
     "text": [
      "C:\\Users\\rrubel\\AppData\\Local\\Continuum\\anaconda3\\lib\\site-packages\\ipykernel_launcher.py:1: SettingWithCopyWarning: \n",
      "A value is trying to be set on a copy of a slice from a DataFrame.\n",
      "Try using .loc[row_indexer,col_indexer] = value instead\n",
      "\n",
      "See the caveats in the documentation: http://pandas.pydata.org/pandas-docs/stable/indexing.html#indexing-view-versus-copy\n",
      "  \"\"\"Entry point for launching an IPython kernel.\n"
     ]
    }
   ],
   "source": [
    "df2[\"Weekly_Sales\"] = np.log(df2[\"Weekly_Sales\"])"
   ]
  },
  {
   "cell_type": "markdown",
   "metadata": {},
   "source": [
    "Let's have another look at the histogram. What do you see?"
   ]
  },
  {
   "cell_type": "code",
   "execution_count": 17,
   "metadata": {},
   "outputs": [
    {
     "data": {
      "text/plain": [
       "<matplotlib.axes._subplots.AxesSubplot at 0x225d9d54940>"
      ]
     },
     "execution_count": 17,
     "metadata": {},
     "output_type": "execute_result"
    },
    {
     "data": {
      "image/png": "[encoded data removed]",
      "text/plain": [
       "<Figure size 432x288 with 1 Axes>"
      ]
     },
     "metadata": {
      "needs_background": "light"
     },
     "output_type": "display_data"
    }
   ],
   "source": [
    "df2[\"Weekly_Sales\"].hist()"
   ]
  },
  {
   "cell_type": "markdown",
   "metadata": {},
   "source": [
    "Now let's repeat what we did before, yet now with the log(Weekly_Sales) as the target."
   ]
  },
  {
   "cell_type": "code",
   "execution_count": 18,
   "metadata": {},
   "outputs": [
    {
     "name": "stdout",
     "output_type": "stream",
     "text": [
      "['Size', 0.10780975018477779, 8.671485180985368, 0.6116185906202127, 0.0]\n",
      "['Temperature', 0.0007654996204087272, 8.671603611690758, 0.0515690944972903, 5.3400172912048595e-18]\n",
      "['Fuel_Price', 0.00044928127033871945, 8.671613962769431, 0.03949232656972057, 3.5176641775608455e-11]\n",
      "['CPI', 0.025949085295407515, 8.671703573822903, -0.3002071974538499, 0.0]\n",
      "['Unemployment', 0.00027696050787828774, 8.671620744194504, 0.03101368076921429, 1.9943786070646916e-07]\n"
     ]
    }
   ],
   "source": [
    "cols = []\n",
    "for x in range(2,7):\n",
    "    predictor = df2.iloc[:,x]\n",
    "    predictors_int = sm.add_constant(predictor)\n",
    "    model = sm.OLS(df2[\"Weekly_Sales\"], predictors_int).fit()\n",
    "    cols.append([df2.iloc[:,x].name, model.rsquared, model.params[0], model.params[1], model.pvalues[1]])\n",
    "    model.summary()\n",
    "for number in range(0,5):\n",
    "    print(cols[number])"
   ]
  },
  {
   "cell_type": "code",
   "execution_count": 19,
   "metadata": {},
   "outputs": [
    {
     "data": {
      "text/html": [
       "<div>\n",
       "<style scoped>\n",
       "    .dataframe tbody tr th:only-of-type {\n",
       "        vertical-align: middle;\n",
       "    }\n",
       "\n",
       "    .dataframe tbody tr th {\n",
       "        vertical-align: top;\n",
       "    }\n",
       "\n",
       "    .dataframe thead th {\n",
       "        text-align: right;\n",
       "    }\n",
       "</style>\n",
       "<table border=\"1\" class=\"dataframe\">\n",
       "  <thead>\n",
       "    <tr style=\"text-align: right;\">\n",
       "      <th></th>\n",
       "      <th>0</th>\n",
       "      <th>1</th>\n",
       "      <th>2</th>\n",
       "      <th>3</th>\n",
       "      <th>4</th>\n",
       "    </tr>\n",
       "  </thead>\n",
       "  <tbody>\n",
       "    <tr>\n",
       "      <th>0</th>\n",
       "      <td>Size</td>\n",
       "      <td>0.107810</td>\n",
       "      <td>8.671485</td>\n",
       "      <td>0.611619</td>\n",
       "      <td>0.000000e+00</td>\n",
       "    </tr>\n",
       "    <tr>\n",
       "      <th>1</th>\n",
       "      <td>Temperature</td>\n",
       "      <td>0.000765</td>\n",
       "      <td>8.671604</td>\n",
       "      <td>0.051569</td>\n",
       "      <td>5.340017e-18</td>\n",
       "    </tr>\n",
       "    <tr>\n",
       "      <th>2</th>\n",
       "      <td>Fuel_Price</td>\n",
       "      <td>0.000449</td>\n",
       "      <td>8.671614</td>\n",
       "      <td>0.039492</td>\n",
       "      <td>3.517664e-11</td>\n",
       "    </tr>\n",
       "    <tr>\n",
       "      <th>3</th>\n",
       "      <td>CPI</td>\n",
       "      <td>0.025949</td>\n",
       "      <td>8.671704</td>\n",
       "      <td>-0.300207</td>\n",
       "      <td>0.000000e+00</td>\n",
       "    </tr>\n",
       "    <tr>\n",
       "      <th>4</th>\n",
       "      <td>Unemployment</td>\n",
       "      <td>0.000277</td>\n",
       "      <td>8.671621</td>\n",
       "      <td>0.031014</td>\n",
       "      <td>1.994379e-07</td>\n",
       "    </tr>\n",
       "  </tbody>\n",
       "</table>\n",
       "</div>"
      ],
      "text/plain": [
       "              0         1         2         3             4\n",
       "0          Size  0.107810  8.671485  0.611619  0.000000e+00\n",
       "1   Temperature  0.000765  8.671604  0.051569  5.340017e-18\n",
       "2    Fuel_Price  0.000449  8.671614  0.039492  3.517664e-11\n",
       "3           CPI  0.025949  8.671704 -0.300207  0.000000e+00\n",
       "4  Unemployment  0.000277  8.671621  0.031014  1.994379e-07"
      ]
     },
     "execution_count": 19,
     "metadata": {},
     "output_type": "execute_result"
    }
   ],
   "source": [
    "pd.DataFrame(cols)"
   ]
  },
  {
   "cell_type": "code",
   "execution_count": 20,
   "metadata": {},
   "outputs": [
    {
     "name": "stdout",
     "output_type": "stream",
     "text": [
      "The R^2 squared values have decreased even more.\n"
     ]
    }
   ],
   "source": [
    "print(\"The R^2 squared values have decreased even more.\")"
   ]
  },
  {
   "cell_type": "markdown",
   "metadata": {},
   "source": [
    "- compare and contract the results with the results obtained when we did not take the log(sales)\n",
    "- Which one would you want to proceed with based on this?"
   ]
  },
  {
   "cell_type": "markdown",
   "metadata": {},
   "source": [
    "## Build a model with each categorical variable as a predictor"
   ]
  },
  {
   "cell_type": "markdown",
   "metadata": {},
   "source": [
    "- Use it on the log-transformed, and the regular `Weekly_Sales`\n",
    "- put all categories for one categorical variable in 1 model, so we want 4 models.\n",
    "- remember that we have 4 categorical variables: `Store`,  `Dept`, `IsHoliday` and `Type`( we're for now ignoring the `binned_markdown` categories, you can add then later on as an extension)\n",
    "- IMPORTANT: remember that we made dummies for `Type`, `Dept` and `Store` columns. You'll need to drop 1 column for each of these if you want good results. The reason for this is that singularity will occur and . This is related to what we mentioned earlier on in section 11. Don't worry about the \"why\" for now, just make sure to drop 1 column and you should be fine! The parameter value for the dropper \"base category\" will be absorbed in the intercept."
   ]
  },
  {
   "cell_type": "code",
   "execution_count": 21,
   "metadata": {},
   "outputs": [
    {
     "name": "stdout",
     "output_type": "stream",
     "text": [
      "                            OLS Regression Results                            \n",
      "==============================================================================\n",
      "Dep. Variable:           Weekly_Sales   R-squared:                       0.123\n",
      "Model:                            OLS   Adj. R-squared:                  0.123\n",
      "Method:                 Least Squares   F-statistic:                     1519.\n",
      "Date:                Fri, 23 Nov 2018   Prob (F-statistic):               0.00\n",
      "Time:                        17:49:21   Log-Likelihood:            -1.1243e+06\n",
      "No. Observations:               97839   AIC:                         2.249e+06\n",
      "Df Residuals:                   97829   BIC:                         2.249e+06\n",
      "Df Model:                           9                                         \n",
      "Covariance Type:            nonrobust                                         \n",
      "=================================================================================\n",
      "                    coef    std err          t      P>|t|      [0.025      0.975]\n",
      "---------------------------------------------------------------------------------\n",
      "Intercept      8772.8904    251.567     34.873      0.000    8279.823    9265.958\n",
      "Store_1[T.1]   1.294e+04    343.605     37.653      0.000    1.23e+04    1.36e+04\n",
      "Store_10[T.1]  1.756e+04    343.056     51.185      0.000    1.69e+04    1.82e+04\n",
      "Store_2[T.1]   1.813e+04    343.652     52.743      0.000    1.75e+04    1.88e+04\n",
      "Store_3[T.1]  -2399.8564    354.101     -6.777      0.000   -3093.891   -1705.822\n",
      "Store_4[T.1]   2.039e+04    343.388     59.374      0.000    1.97e+04    2.11e+04\n",
      "Store_5[T.1]  -3719.4746    354.462    -10.493      0.000   -4414.216   -3024.734\n",
      "Store_6[T.1]   1.314e+04    343.863     38.214      0.000    1.25e+04    1.38e+04\n",
      "Store_7[T.1]   -414.1242    347.519     -1.192      0.233   -1095.257     267.009\n",
      "Store_8[T.1]   4360.1244    346.405     12.587      0.000    3681.174    5039.075\n",
      "==============================================================================\n",
      "Omnibus:                    71899.334   Durbin-Watson:                   1.297\n",
      "Prob(Omnibus):                  0.000   Jarque-Bera (JB):          2578164.480\n",
      "Skew:                           3.158   Prob(JB):                         0.00\n",
      "Kurtosis:                      27.342   Cond. No.                         11.4\n",
      "==============================================================================\n",
      "\n",
      "Warnings:\n",
      "[1] Standard Errors assume that the covariance matrix of the errors is correctly specified.\n",
      "                            OLS Regression Results                            \n",
      "==============================================================================\n",
      "Dep. Variable:           Weekly_Sales   R-squared:                       0.503\n",
      "Model:                            OLS   Adj. R-squared:                  0.503\n",
      "Method:                 Least Squares   F-statistic:                     1269.\n",
      "Date:                Fri, 23 Nov 2018   Prob (F-statistic):               0.00\n",
      "Time:                        17:49:22   Log-Likelihood:            -1.0965e+06\n",
      "No. Observations:               97839   AIC:                         2.193e+06\n",
      "Df Residuals:                   97760   BIC:                         2.194e+06\n",
      "Df Model:                          78                                         \n",
      "Covariance Type:            nonrobust                                         \n",
      "================================================================================\n",
      "                   coef    std err          t      P>|t|      [0.025      0.975]\n",
      "--------------------------------------------------------------------------------\n",
      "Intercept      423.7693   1270.654      0.334      0.739   -2066.698    2914.236\n",
      "Dept_1[T.1]   2.031e+04   1355.355     14.986      0.000    1.77e+04     2.3e+04\n",
      "Dept_10[T.1]  2.737e+04   1355.355     20.196      0.000    2.47e+04       3e+04\n",
      "Dept_11[T.1]  1.909e+04   1355.355     14.083      0.000    1.64e+04    2.17e+04\n",
      "Dept_12[T.1]  6230.4916   1355.355      4.597      0.000    3574.012    8886.971\n",
      "Dept_13[T.1]  3.356e+04   1355.355     24.763      0.000    3.09e+04    3.62e+04\n",
      "Dept_14[T.1]  1.631e+04   1355.355     12.035      0.000    1.37e+04     1.9e+04\n",
      "Dept_16[T.1]  1.846e+04   1355.355     13.617      0.000    1.58e+04    2.11e+04\n",
      "Dept_17[T.1]  1.011e+04   1355.355      7.460      0.000    7454.922    1.28e+04\n",
      "Dept_18[T.1]  7901.0587   1379.372      5.728      0.000    5197.506    1.06e+04\n",
      "Dept_19[T.1]  1567.0310   1366.897      1.146      0.252   -1112.071    4246.133\n",
      "Dept_2[T.1]   4.739e+04   1355.355     34.968      0.000    4.47e+04    5.01e+04\n",
      "Dept_20[T.1]  5171.2095   1355.355      3.815      0.000    2514.730    7827.689\n",
      "Dept_21[T.1]  5417.0979   1355.355      3.997      0.000    2760.618    8073.578\n",
      "Dept_22[T.1]  1.029e+04   1355.355      7.593      0.000    7634.078    1.29e+04\n",
      "Dept_23[T.1]  2.459e+04   1355.355     18.146      0.000    2.19e+04    2.73e+04\n",
      "Dept_24[T.1]  5680.9937   1355.355      4.192      0.000    3024.514    8337.473\n",
      "Dept_25[T.1]  9594.6328   1355.355      7.079      0.000    6938.153    1.23e+04\n",
      "Dept_26[T.1]  7337.3558   1355.355      5.414      0.000    4680.876    9993.836\n",
      "Dept_27[T.1]  1086.3982   1355.355      0.802      0.423   -1570.082    3742.878\n",
      "Dept_28[T.1]   110.0078   1355.355      0.081      0.935   -2546.472    2766.488\n",
      "Dept_29[T.1]  4861.8289   1355.355      3.587      0.000    2205.349    7518.309\n",
      "Dept_3[T.1]   1.307e+04   1355.355      9.645      0.000    1.04e+04    1.57e+04\n",
      "Dept_30[T.1]  3549.3742   1355.355      2.619      0.009     892.894    6205.854\n",
      "Dept_31[T.1]  2108.9331   1355.355      1.556      0.120    -547.547    4765.413\n",
      "Dept_32[T.1]  8473.6476   1355.355      6.252      0.000    5817.168    1.11e+04\n",
      "Dept_33[T.1]  5841.9874   1355.355      4.310      0.000    3185.508    8498.467\n",
      "Dept_34[T.1]  1.388e+04   1355.355     10.243      0.000    1.12e+04    1.65e+04\n",
      "Dept_35[T.1]  2502.9555   1355.355      1.847      0.065    -153.524    5159.435\n",
      "Dept_36[T.1]  1487.4397   1355.412      1.097      0.272   -1169.153    4144.032\n",
      "Dept_37[T.1]  3101.2589   1408.996      2.201      0.028     339.643    5862.875\n",
      "Dept_38[T.1]  7.396e+04   1355.355     54.571      0.000    7.13e+04    7.66e+04\n",
      "Dept_39[T.1]  -421.5853   8076.403     -0.052      0.958   -1.63e+04    1.54e+04\n",
      "Dept_4[T.1]   2.892e+04   1355.355     21.338      0.000    2.63e+04    3.16e+04\n",
      "Dept_40[T.1]  5.132e+04   1355.355     37.865      0.000    4.87e+04     5.4e+04\n",
      "Dept_41[T.1]  1884.4462   1355.355      1.390      0.164    -772.034    4540.926\n",
      "Dept_42[T.1]  6517.9654   1355.355      4.809      0.000    3861.486    9174.445\n",
      "Dept_44[T.1]  4402.3272   1355.355      3.248      0.001    1745.847    7058.807\n",
      "Dept_45[T.1]  -398.7865   1488.565     -0.268      0.789   -3316.356    2518.783\n",
      "Dept_46[T.1]  2.182e+04   1355.355     16.103      0.000    1.92e+04    2.45e+04\n",
      "Dept_47[T.1]  -446.0262   1849.803     -0.241      0.809   -4071.617    3179.565\n",
      "Dept_48[T.1]  1197.6152   1412.133      0.848      0.396   -1570.148    3965.378\n",
      "Dept_49[T.1]  8384.9021   1378.527      6.083      0.000    5683.005    1.11e+04\n",
      "Dept_5[T.1]   2.605e+04   1355.355     19.217      0.000    2.34e+04    2.87e+04\n",
      "Dept_50[T.1]  3833.8910   1959.290      1.957      0.050      -6.295    7674.076\n",
      "Dept_51[T.1]  -403.9200   1783.648     -0.226      0.821   -3899.850    3092.010\n",
      "Dept_52[T.1]  2176.8167   1355.355      1.606      0.108    -479.663    4833.296\n",
      "Dept_54[T.1]  -319.3397   1366.971     -0.234      0.815   -2998.587    2359.908\n",
      "Dept_55[T.1]  1.102e+04   1355.355      8.132      0.000    8364.924    1.37e+04\n",
      "Dept_56[T.1]  3660.4750   1355.470      2.701      0.007    1003.770    6317.180\n",
      "Dept_58[T.1]  5198.1371   1383.191      3.758      0.000    2487.099    7909.175\n",
      "Dept_59[T.1]   443.0442   1362.310      0.325      0.745   -2227.067    3113.156\n",
      "Dept_6[T.1]   4913.1605   1355.355      3.625      0.000    2256.681    7569.640\n",
      "Dept_60[T.1]   -87.7371   1363.329     -0.064      0.949   -2759.846    2584.372\n",
      "Dept_67[T.1]  7068.8597   1355.355      5.216      0.000    4412.380    9725.340\n",
      "Dept_7[T.1]   2.662e+04   1355.355     19.642      0.000     2.4e+04    2.93e+04\n",
      "Dept_71[T.1]  3997.6752   1355.355      2.950      0.003    1341.195    6654.155\n",
      "Dept_72[T.1]  5.894e+04   1355.355     43.489      0.000    5.63e+04    6.16e+04\n",
      "Dept_74[T.1]  1.419e+04   1355.355     10.473      0.000    1.15e+04    1.69e+04\n",
      "Dept_77[T.1]    67.4900   3547.174      0.019      0.985   -6884.930    7019.910\n",
      "Dept_78[T.1]  -416.0115   2739.475     -0.152      0.879   -5785.350    4953.326\n",
      "Dept_79[T.1]  2.286e+04   1355.355     16.868      0.000    2.02e+04    2.55e+04\n",
      "Dept_8[T.1]   3.713e+04   1355.355     27.398      0.000    3.45e+04    3.98e+04\n",
      "Dept_80[T.1]  1.153e+04   1386.639      8.314      0.000    8810.613    1.42e+04\n",
      "Dept_81[T.1]  1.391e+04   1355.355     10.263      0.000    1.13e+04    1.66e+04\n",
      "Dept_82[T.1]   1.59e+04   1355.355     11.734      0.000    1.32e+04    1.86e+04\n",
      "Dept_83[T.1]  3595.9717   1390.305      2.586      0.010     870.990    6320.953\n",
      "Dept_85[T.1]  1853.0516   1355.355      1.367      0.172    -803.428    4509.531\n",
      "Dept_87[T.1]  2.024e+04   1355.355     14.935      0.000    1.76e+04    2.29e+04\n",
      "Dept_9[T.1]    2.77e+04   1355.355     20.440      0.000     2.5e+04    3.04e+04\n",
      "Dept_90[T.1]  3.938e+04   1355.355     29.057      0.000    3.67e+04     4.2e+04\n",
      "Dept_91[T.1]  3.096e+04   1355.355     22.840      0.000    2.83e+04    3.36e+04\n",
      "Dept_92[T.1]  7.213e+04   1355.355     53.222      0.000    6.95e+04    7.48e+04\n",
      "Dept_93[T.1]  3.974e+04   1389.848     28.594      0.000     3.7e+04    4.25e+04\n",
      "Dept_94[T.1]  3.367e+04   1376.696     24.456      0.000     3.1e+04    3.64e+04\n",
      "Dept_95[T.1]  7.317e+04   1355.355     53.988      0.000    7.05e+04    7.58e+04\n",
      "Dept_96[T.1]  1.729e+04   1365.726     12.661      0.000    1.46e+04       2e+04\n",
      "Dept_97[T.1]  1.789e+04   1365.151     13.102      0.000    1.52e+04    2.06e+04\n",
      "Dept_98[T.1]  7545.9584   1385.890      5.445      0.000    4829.630    1.03e+04\n",
      "==============================================================================\n",
      "Omnibus:                    71368.627   Durbin-Watson:                   0.888\n",
      "Prob(Omnibus):                  0.000   Jarque-Bera (JB):          8933238.469\n",
      "Skew:                           2.697   Prob(JB):                         0.00\n",
      "Kurtosis:                      49.500   Cond. No.                         201.\n",
      "==============================================================================\n",
      "\n",
      "Warnings:\n",
      "[1] Standard Errors assume that the covariance matrix of the errors is correctly specified.\n",
      "                            OLS Regression Results                            \n",
      "==============================================================================\n",
      "Dep. Variable:           Weekly_Sales   R-squared:                       0.050\n",
      "Model:                            OLS   Adj. R-squared:                  0.050\n",
      "Method:                 Least Squares   F-statistic:                     5097.\n",
      "Date:                Fri, 23 Nov 2018   Prob (F-statistic):               0.00\n",
      "Time:                        17:49:22   Log-Likelihood:            -1.1282e+06\n",
      "No. Observations:               97839   AIC:                         2.256e+06\n",
      "Df Residuals:                   97837   BIC:                         2.257e+06\n",
      "Df Model:                           1                                         \n",
      "Covariance Type:            nonrobust                                         \n",
      "===============================================================================\n",
      "                  coef    std err          t      P>|t|      [0.025      0.975]\n",
      "-------------------------------------------------------------------------------\n",
      "Intercept    1.137e+04    113.749     99.941      0.000    1.11e+04    1.16e+04\n",
      "Type_A[T.1]  1.126e+04    157.767     71.392      0.000     1.1e+04    1.16e+04\n",
      "==============================================================================\n",
      "Omnibus:                    73545.565   Durbin-Watson:                   1.197\n",
      "Prob(Omnibus):                  0.000   Jarque-Bera (JB):          2462495.982\n",
      "Skew:                           3.299   Prob(JB):                         0.00\n",
      "Kurtosis:                      26.675   Cond. No.                         2.67\n",
      "==============================================================================\n",
      "\n",
      "Warnings:\n",
      "[1] Standard Errors assume that the covariance matrix of the errors is correctly specified.\n",
      "                            OLS Regression Results                            \n",
      "==============================================================================\n",
      "Dep. Variable:           Weekly_Sales   R-squared:                       0.000\n",
      "Model:                            OLS   Adj. R-squared:                  0.000\n",
      "Method:                 Least Squares   F-statistic:                     21.05\n",
      "Date:                Fri, 23 Nov 2018   Prob (F-statistic):           4.47e-06\n",
      "Time:                        17:49:22   Log-Likelihood:            -1.1307e+06\n",
      "No. Observations:               97839   AIC:                         2.261e+06\n",
      "Df Residuals:                   97837   BIC:                         2.261e+06\n",
      "Df Model:                           1                                         \n",
      "Covariance Type:            nonrobust                                         \n",
      "=====================================================================================\n",
      "                        coef    std err          t      P>|t|      [0.025      0.975]\n",
      "-------------------------------------------------------------------------------------\n",
      "Intercept          1.712e+04     83.851    204.184      0.000     1.7e+04    1.73e+04\n",
      "IsHoliday[T.True]  1448.6105    315.703      4.589      0.000     829.837    2067.384\n",
      "==============================================================================\n",
      "Omnibus:                    72236.950   Durbin-Watson:                   1.138\n",
      "Prob(Omnibus):                  0.000   Jarque-Bera (JB):          2092730.538\n",
      "Skew:                           3.265   Prob(JB):                         0.00\n",
      "Kurtosis:                      24.696   Cond. No.                         3.93\n",
      "==============================================================================\n",
      "\n",
      "Warnings:\n",
      "[1] Standard Errors assume that the covariance matrix of the errors is correctly specified.\n"
     ]
    }
   ],
   "source": [
    "cols_store= df.columns[7:16]\n",
    "cols_dept = df.columns[17:95]\n",
    "cols_type = df.columns[96:97]\n",
    "cols_holiday = df.columns[1:2] \n",
    "\n",
    "columns = [cols_store, cols_dept, cols_type, cols_holiday]\n",
    "for column in columns:\n",
    "    col_combined = \"+\".join(column)\n",
    "    f = \"Weekly_Sales ~\" + col_combined\n",
    "    model = smf.ols(formula= f, data= df).fit()\n",
    "    print(model.summary())"
   ]
  },
  {
   "cell_type": "code",
   "execution_count": null,
   "metadata": {},
   "outputs": [],
   "source": []
  },
  {
   "cell_type": "markdown",
   "metadata": {},
   "source": [
    "## Let's drop a few columns in our data set based on our findings"
   ]
  },
  {
   "cell_type": "markdown",
   "metadata": {},
   "source": [
    "- Let's stick with our `walmart_log` data, as it seemed like it was generally resulting in higher R-squared values.\n",
    "- Let's drop continuous variables which resulted in single linear models with a R-squared value <0.01 for the `walmart_log models`.\n",
    "- Let's make sure to drop 1 column for each categorical variable we end up using."
   ]
  },
  {
   "cell_type": "code",
   "execution_count": 22,
   "metadata": {},
   "outputs": [
    {
     "data": {
      "text/html": [
       "<div>\n",
       "<style scoped>\n",
       "    .dataframe tbody tr th:only-of-type {\n",
       "        vertical-align: middle;\n",
       "    }\n",
       "\n",
       "    .dataframe tbody tr th {\n",
       "        vertical-align: top;\n",
       "    }\n",
       "\n",
       "    .dataframe thead th {\n",
       "        text-align: right;\n",
       "    }\n",
       "</style>\n",
       "<table border=\"1\" class=\"dataframe\">\n",
       "  <thead>\n",
       "    <tr style=\"text-align: right;\">\n",
       "      <th></th>\n",
       "      <th>Weekly_Sales</th>\n",
       "      <th>Size</th>\n",
       "      <th>Temperature</th>\n",
       "      <th>CPI</th>\n",
       "    </tr>\n",
       "  </thead>\n",
       "  <tbody>\n",
       "    <tr>\n",
       "      <th>count</th>\n",
       "      <td>97615.000000</td>\n",
       "      <td>97615.000000</td>\n",
       "      <td>97615.000000</td>\n",
       "      <td>97615.000000</td>\n",
       "    </tr>\n",
       "    <tr>\n",
       "      <th>mean</th>\n",
       "      <td>8.671603</td>\n",
       "      <td>0.000193</td>\n",
       "      <td>-0.000011</td>\n",
       "      <td>0.000335</td>\n",
       "    </tr>\n",
       "    <tr>\n",
       "      <th>std</th>\n",
       "      <td>1.863225</td>\n",
       "      <td>1.000262</td>\n",
       "      <td>0.999651</td>\n",
       "      <td>0.999782</td>\n",
       "    </tr>\n",
       "    <tr>\n",
       "      <th>min</th>\n",
       "      <td>-4.605170</td>\n",
       "      <td>-1.611999</td>\n",
       "      <td>-3.843452</td>\n",
       "      <td>-1.958762</td>\n",
       "    </tr>\n",
       "    <tr>\n",
       "      <th>25%</th>\n",
       "      <td>7.766504</td>\n",
       "      <td>-1.028620</td>\n",
       "      <td>-0.708759</td>\n",
       "      <td>-0.126697</td>\n",
       "    </tr>\n",
       "    <tr>\n",
       "      <th>50%</th>\n",
       "      <td>8.948477</td>\n",
       "      <td>0.283436</td>\n",
       "      <td>0.134073</td>\n",
       "      <td>0.499521</td>\n",
       "    </tr>\n",
       "    <tr>\n",
       "      <th>75%</th>\n",
       "      <td>9.948167</td>\n",
       "      <td>1.113495</td>\n",
       "      <td>0.868041</td>\n",
       "      <td>0.635046</td>\n",
       "    </tr>\n",
       "    <tr>\n",
       "      <th>max</th>\n",
       "      <td>13.448929</td>\n",
       "      <td>1.171380</td>\n",
       "      <td>1.738375</td>\n",
       "      <td>0.851771</td>\n",
       "    </tr>\n",
       "  </tbody>\n",
       "</table>\n",
       "</div>"
      ],
      "text/plain": [
       "       Weekly_Sales          Size   Temperature           CPI\n",
       "count  97615.000000  97615.000000  97615.000000  97615.000000\n",
       "mean       8.671603      0.000193     -0.000011      0.000335\n",
       "std        1.863225      1.000262      0.999651      0.999782\n",
       "min       -4.605170     -1.611999     -3.843452     -1.958762\n",
       "25%        7.766504     -1.028620     -0.708759     -0.126697\n",
       "50%        8.948477      0.283436      0.134073      0.499521\n",
       "75%        9.948167      1.113495      0.868041      0.635046\n",
       "max       13.448929      1.171380      1.738375      0.851771"
      ]
     },
     "execution_count": 22,
     "metadata": {},
     "output_type": "execute_result"
    }
   ],
   "source": [
    "df_final = df2.drop([\"Fuel_Price\",\"Unemployment\",\"IsHoliday\", \"Store_10\", \"Dept_98\",\"Type_B\"], axis=1)\n",
    "df_final.columns[92:121]\n",
    "df_final =df_final.drop(df_final.columns[92:121],axis=1)\n",
    "df_final.describe()"
   ]
  },
  {
   "cell_type": "markdown",
   "metadata": {},
   "source": [
    "## From here on out, use Feature ranking with recursive feature elimination"
   ]
  },
  {
   "cell_type": "markdown",
   "metadata": {},
   "source": [
    "Let's create a matrix X and y containing the predictors and target for our model. Let's use Scikit-Learn's RFE function, documentation again [here](http://scikit-learn.org/stable/modules/classes.html#module-sklearn.feature_selection)."
   ]
  },
  {
   "cell_type": "code",
   "execution_count": 23,
   "metadata": {},
   "outputs": [],
   "source": [
    "X = df_final.drop([\"Weekly_Sales\"], axis=1)\n",
    "y = df_final[[\"Weekly_Sales\"]]"
   ]
  },
  {
   "cell_type": "markdown",
   "metadata": {},
   "source": [
    "Let's create a for loop using `RFE` where we look at the 5, 15, 25,... up until 85 best features to be selected according to the feature ranking algorithm. Store the R-squared and the adjusted-R-squareds for all these models in a list. What do you see? No need to perform a train-test-split for now- that will be next!"
   ]
  },
  {
   "cell_type": "code",
   "execution_count": 24,
   "metadata": {},
   "outputs": [
    {
     "name": "stdout",
     "output_type": "stream",
     "text": [
      "[Weekly_Sales    0.077963\n",
      "dtype: float64, Weekly_Sales    0.213972\n",
      "dtype: float64, Weekly_Sales    0.488819\n",
      "dtype: float64, Weekly_Sales    0.624657\n",
      "dtype: float64, Weekly_Sales    0.687213\n",
      "dtype: float64, Weekly_Sales    0.729197\n",
      "dtype: float64, Weekly_Sales    0.757462\n",
      "dtype: float64, Weekly_Sales    0.772137\n",
      "dtype: float64, Weekly_Sales    0.774909\n",
      "dtype: float64]\n",
      "[Weekly_Sales    0.077103\n",
      "dtype: float64, Weekly_Sales    0.213239\n",
      "dtype: float64, Weekly_Sales    0.488342\n",
      "dtype: float64, Weekly_Sales    0.624307\n",
      "dtype: float64, Weekly_Sales    0.686921\n",
      "dtype: float64, Weekly_Sales    0.728945\n",
      "dtype: float64, Weekly_Sales    0.757236\n",
      "dtype: float64, Weekly_Sales    0.771925\n",
      "dtype: float64, Weekly_Sales    0.774699\n",
      "dtype: float64]\n"
     ]
    }
   ],
   "source": [
    "from sklearn.feature_selection import RFE\n",
    "from sklearn.linear_model import LinearRegression\n",
    "linreg = LinearRegression()\n",
    "r_list = []\n",
    "adj_r_list = []\n",
    "\n",
    "value_list = [5,15,25,35,45,55,65,75,85]\n",
    "\n",
    "for i in value_list: \n",
    "    \n",
    "    selector = RFE(linreg, n_features_to_select = i)\n",
    "    selector = selector.fit(X, np.ravel(y))\n",
    "    z = X.columns[selector.support_]\n",
    "    linreg.fit(X[z],y)\n",
    "    yhat = linreg.predict(X[z])\n",
    "    \n",
    "    SS_Residual = np.sum((y-yhat)**2)\n",
    "    SS_Total = np.sum((y-np.mean(y))**2)\n",
    "    \n",
    "    r_squared = 1 - (float(SS_Residual))/SS_Total\n",
    "    adjusted_r_squared = 1 - (1-r_squared)*(len(y)-1)/(len(y)-X.shape[1]-1)\n",
    "    print()\n",
    "    \n",
    "    r_list.append(r_squared)\n",
    "    adj_r_list.append(adjusted_r_squared)"
   ]
  },
  {
   "cell_type": "code",
   "execution_count": 27,
   "metadata": {},
   "outputs": [
    {
     "name": "stdout",
     "output_type": "stream",
     "text": [
      "[Weekly_Sales    0.077963\n",
      "dtype: float64, Weekly_Sales    0.213972\n",
      "dtype: float64, Weekly_Sales    0.488819\n",
      "dtype: float64, Weekly_Sales    0.624657\n",
      "dtype: float64, Weekly_Sales    0.687213\n",
      "dtype: float64, Weekly_Sales    0.729197\n",
      "dtype: float64, Weekly_Sales    0.757462\n",
      "dtype: float64, Weekly_Sales    0.772137\n",
      "dtype: float64, Weekly_Sales    0.774909\n",
      "dtype: float64]\n",
      "[Weekly_Sales    0.077103\n",
      "dtype: float64, Weekly_Sales    0.213239\n",
      "dtype: float64, Weekly_Sales    0.488342\n",
      "dtype: float64, Weekly_Sales    0.624307\n",
      "dtype: float64, Weekly_Sales    0.686921\n",
      "dtype: float64, Weekly_Sales    0.728945\n",
      "dtype: float64, Weekly_Sales    0.757236\n",
      "dtype: float64, Weekly_Sales    0.771925\n",
      "dtype: float64, Weekly_Sales    0.774699\n",
      "dtype: float64]\n"
     ]
    }
   ],
   "source": [
    "print(r_list)\n",
    "print(adj_r_list)"
   ]
  },
  {
   "cell_type": "markdown",
   "metadata": {},
   "source": [
    "The difference between $R^2$ and adjusted $R^2$ is negligible, and seems to continue to be going up as we include more features. Remember though that we're likely overfitting when including 85 features. In order to identify this, let's rerun a similar experiment, but using a train test split!"
   ]
  },
  {
   "cell_type": "markdown",
   "metadata": {},
   "source": [
    "## Including a train-test-split"
   ]
  },
  {
   "cell_type": "markdown",
   "metadata": {},
   "source": [
    "Let's create a similar for loop to what we did before. Except, this time\n",
    "- Use a train test split of 20-80\n",
    "- Instead of looking at $R^2$ and $R^2_{adj}$, look at the MSE for train and test"
   ]
  },
  {
   "cell_type": "code",
   "execution_count": 28,
   "metadata": {},
   "outputs": [],
   "source": [
    "from sklearn.model_selection import train_test_split\n",
    "X_train, X_test, y_train, y_test = train_test_split(X, y, test_size = 0.2)\n",
    "value_list = [5,15,25,35,45,55,65,75,85]\n",
    "test_MSE = []\n",
    "train_MSE = []\n",
    "\n",
    "for i in value_list: \n",
    "    \n",
    "    selector = RFE(linreg, n_features_to_select = i)\n",
    "    selector = selector.fit(X_train, np.ravel(y_train))\n",
    "    z = X.columns[selector.support_]\n",
    "    linreg.fit(X_train[z],y_train)\n",
    "    \n",
    "    yhat_train = linreg.predict(X_train[z])\n",
    "    yhat_test = linreg.predict(X_test[z])\n",
    "    \n",
    "    mse_train = np.sum((y_train-yhat_train)**2)/len(y_train)\n",
    "    mse_test =np.sum((y_test-yhat_test)**2)/len(y_test)\n",
    "    \n",
    "    test_MSE.append(mse_test)\n",
    "    train_MSE.append(mse_train)"
   ]
  },
  {
   "cell_type": "code",
   "execution_count": 29,
   "metadata": {},
   "outputs": [
    {
     "name": "stdout",
     "output_type": "stream",
     "text": [
      "[Weekly_Sales    3.21387\n",
      "dtype: float64, Weekly_Sales    2.711113\n",
      "dtype: float64, Weekly_Sales    1.76922\n",
      "dtype: float64, Weekly_Sales    1.295474\n",
      "dtype: float64, Weekly_Sales    1.080853\n",
      "dtype: float64, Weekly_Sales    0.934526\n",
      "dtype: float64, Weekly_Sales    0.838603\n",
      "dtype: float64, Weekly_Sales    0.78677\n",
      "dtype: float64, Weekly_Sales    0.779574\n",
      "dtype: float64]\n",
      "[Weekly_Sales    3.197746\n",
      "dtype: float64, Weekly_Sales    2.733206\n",
      "dtype: float64, Weekly_Sales    1.776068\n",
      "dtype: float64, Weekly_Sales    1.305006\n",
      "dtype: float64, Weekly_Sales    1.087217\n",
      "dtype: float64, Weekly_Sales    0.941648\n",
      "dtype: float64, Weekly_Sales    0.842996\n",
      "dtype: float64, Weekly_Sales    0.792266\n",
      "dtype: float64, Weekly_Sales    0.7822\n",
      "dtype: float64]\n"
     ]
    }
   ],
   "source": [
    "print(test_MSE)\n",
    "print(train_MSE)"
   ]
  },
  {
   "cell_type": "markdown",
   "metadata": {},
   "source": [
    "What we see is that both MSE keeps improving when we add variables. It seems like a bigger model improves our performance, and the test and train performance don't really diverge. It is important to note however that is not an unusual result. The performance measures used typically will show this type of behavior. In order to really be able to balance the curse of dimensionality (which will become more important in machine learning), we need other information criteria such as AIC and BIC. You'll learn about them later! Now, let's perform cross-validation on our model with 85 predictors!"
   ]
  },
  {
   "cell_type": "markdown",
   "metadata": {},
   "source": [
    "## 10-fold cross validation with the final model"
   ]
  },
  {
   "cell_type": "markdown",
   "metadata": {},
   "source": [
    "Create a 10-fold cross-validation and store the (negative) MSEs "
   ]
  },
  {
   "cell_type": "code",
   "execution_count": 35,
   "metadata": {},
   "outputs": [
    {
     "data": {
      "text/plain": [
       "array([-7.76668262e-01, -7.14117226e-01, -1.06622541e+00, -7.05897851e-01,\n",
       "       -6.79370930e+18, -5.48346835e-01, -1.04616609e+00, -6.05067404e-01,\n",
       "       -2.78817506e+22, -1.57020580e+00])"
      ]
     },
     "execution_count": 35,
     "metadata": {},
     "output_type": "execute_result"
    }
   ],
   "source": [
    "from sklearn.model_selection import cross_val_score\n",
    "\n",
    "final_x = RFE(linreg, n_features_to_select = 85)\n",
    "final_x = final_x.fit(X, np.ravel(y))\n",
    "final_x2 = X.columns[final_x.support_]\n",
    "\n",
    "results = cross_val_score(linreg, X[final_x2], y, cv=10, scoring = \"neg_mean_squared_error\")\n",
    "results"
   ]
  },
  {
   "cell_type": "markdown",
   "metadata": {},
   "source": [
    "Running our 10-fold cross-validation highlights some issues for sure! Have a look at your list of 10 MSEs. Where most MSEs are manageable, some are very high. The cure of dimensionality is already pretty clear here. The issue is that we have many (dummy) categorical variables that result in columns with many zeroes and few ones. This means that for some folds, there is a risk of ending up with columns that almost exclusively contain 0's for prediction, which might cause weird results. Looking at this, a model with less predictors might make sense again. This is where we conclude for now. It's up to you now to explore other model options! Additionally, it is encouraged to try some of the \"level up\" exercises below. Good luck!"
   ]
  },
  {
   "cell_type": "markdown",
   "metadata": {},
   "source": [
    "# Level up - Optional\n",
    "\n",
    "\n",
    "- You could argue that **throwing out negative sales figures is problematic**, because these are probably the types of observations a stakeholder would be very interested in knowing. Repeat your analysis, but now, instead of removing the rows with negative sales, replace their sales with a slightly positive value (eg. 1), so they have an existing and finite value. Does the result change?\n",
    "\n",
    "- Go back and log-transform `CPI` and `Size` before standardizing it (we did this a few lessons ago). Look at the histogram and see if there is an improvement.\n",
    "- You might have noticed we ignored `binned_markdown` throughout. Add it in the model and see how it changes the results!\n",
    "\n",
    "- Try other feature selection methods such as stepwise selection and forward selection seen in section 11.\n"
   ]
  },
  {
   "cell_type": "markdown",
   "metadata": {},
   "source": [
    "## Summary"
   ]
  },
  {
   "cell_type": "markdown",
   "metadata": {},
   "source": [
    "Congratulations, you made it to the end of the last section in this module. Now it's time for a big project on multiple linear regression!"
   ]
  }
 ],
 "metadata": {
  "kernelspec": {
   "display_name": "learn-env",
   "language": "python",
   "name": "learn-env"
  },
  "language_info": {
   "codemirror_mode": {
    "name": "ipython",
    "version": 3
   },
   "file_extension": ".py",
   "mimetype": "text/x-python",
   "name": "python",
   "nbconvert_exporter": "python",
   "pygments_lexer": "ipython3",
   "version": "3.7.0"
  }
 },
 "nbformat": 4,
 "nbformat_minor": 2
}
